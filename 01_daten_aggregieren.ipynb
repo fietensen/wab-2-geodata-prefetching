{
 "cells": [
  {
   "cell_type": "markdown",
   "metadata": {},
   "source": [
    "## Voraussetzungen\n",
    "\n",
    "1. Internetverbindung\n",
    "2. Python 3 Version (getestet mit 3.11.3)\n",
    "3. Installierte Module\n",
    "\n",
    "## Beschreibung\n",
    "\n",
    "Dieses Notebook dient der Aggregierung der Faktoren, auf dessen Basis der probabilistische Algorithmus bestimmen soll, ob ein Tile in den Cache geladen werden soll oder nicht. Folgende Aktionen werden durchgeführt:\n",
    "\n",
    "1. (Stündliche) Wetterdaten des Jahres 2023 werden von [meteostat.net](https://meteostat.net) heruntergeladen.\n",
    "2. Feiertage und Schulferien werden aus den Kalenderdaten des Jahres 2023 extrahiert. Diese wurden von [feiertage-deutschland.de](https://www.feiertage-deutschland.de) installiert.\n",
    "3. Nicht für die Klassifizierung benötigte Wetterinformationen werden entfernt.\n",
    "4. Stetige Daten werden in diskrete Daten umgewandelt (Binning).\n",
    "5. Gesammelte Daten werden zusammengefasst.\n",
    "6. Daten werden gebündelt in die Datei `./data/agg_mapped_data.csv` exportiert."
   ]
  },
  {
   "cell_type": "code",
   "execution_count": 1,
   "metadata": {},
   "outputs": [],
   "source": [
    "# Importieren von Python Modulen\n",
    "\n",
    "from meteostat import Point, Hourly\n",
    "from datetime import datetime, timedelta\n",
    "import numpy as np\n",
    "import pandas as pd\n",
    "import ics"
   ]
  },
  {
   "cell_type": "markdown",
   "metadata": {},
   "source": [
    "#### 1. Wetterdaten empfangen\n",
    "\n",
    "Wir nutzen das `meteostat`-Modul, welches von [meteostat.net](https://dev.meteostat.net/) angeboten wird. Wir empfangen stündliche Wetterinformationen für Berlin über den Zeitraum vom 01.01.2023 - 31.12.2023 (inklusive)."
   ]
  },
  {
   "cell_type": "code",
   "execution_count": 2,
   "metadata": {},
   "outputs": [
    {
     "name": "stderr",
     "output_type": "stream",
     "text": [
      "FutureWarning: 'H' is deprecated and will be removed in a future version, please use 'h' instead.\n"
     ]
    }
   ],
   "source": [
    "# Zeitraum festlegen\n",
    "start = datetime(2023, 1, 1)\n",
    "end = datetime(2024, 1, 1) - timedelta(hours=1)\n",
    "\n",
    "# Wetterstation festlegen\n",
    "berlin = Point(52.5068042, 13.0950944, 10)\n",
    "\n",
    "# Daten abfragen\n",
    "weather_data = Hourly(berlin, start, end).fetch()"
   ]
  },
  {
   "cell_type": "markdown",
   "metadata": {},
   "source": [
    "#### 2. Feiertage und Schulferien\n",
    "\n",
    "Die Ferien und Feiertage wurden von [feiertage-deutschland.de](https://www.feiertage-deutschland.de/kalender-download/) als Kalender-Datei (`.ics`) heruntergeladen. Mithilfe des `ics`-Moduls werden diese ausgelesen und verwertet."
   ]
  },
  {
   "cell_type": "code",
   "execution_count": 3,
   "metadata": {},
   "outputs": [],
   "source": [
    "# Gibt für den angegebenen Zeitrahmen alle Stunden zurück, in denen ein Ereignis vermerkt ist\n",
    "def parse_ics(path: str, from_date, to_date) -> pd.DataFrame:\n",
    "    # Stündliche Daten, daher werden die Tage mit 24 multipliziert  \n",
    "    has_event = np.zeros((to_date-from_date).days * 24)\n",
    "    valid_events = [] # Events die in dem Zeitbereich liegen\n",
    "    \n",
    "    with open(path, 'r') as fp:\n",
    "        calendar = ics.Calendar(fp.read())\n",
    "        for event in calendar.events:\n",
    "            start_time = event.begin.datetime.replace(tzinfo=None)\n",
    "            end_time = event.end.datetime.replace(tzinfo=None)\n",
    "            if (from_date <= start_time <= to_date) or (from_date <= end_time <= to_date):\n",
    "                valid_events.append(event)\n",
    "\n",
    "    for i in range(len(has_event)):\n",
    "        current_time = (from_date + timedelta(hours=i))\n",
    "\n",
    "        for event in valid_events:\n",
    "            begin = event.begin.datetime.replace(tzinfo=None)\n",
    "            end = event.end.datetime.replace(tzinfo=None)\n",
    "            if begin <= current_time <= end:\n",
    "                has_event[i] = 1\n",
    "\n",
    "    return has_event"
   ]
  },
  {
   "cell_type": "code",
   "execution_count": 4,
   "metadata": {},
   "outputs": [],
   "source": [
    "is_vacation = parse_ics('data/schulferien-berlin.ics', start, datetime(2024, 1, 1))\n",
    "is_holiday = parse_ics('data/feiertage-deutschland.ics', start, datetime(2024, 1, 1))"
   ]
  },
  {
   "cell_type": "markdown",
   "metadata": {},
   "source": [
    "#### 3. Ungewünschte Wetterdaten entfernen\n",
    "\n",
    "Die Beschreibung der Felder in der Wettertabelle kann [dev.meteostat.net/bulk/hourly.html#structure](https://dev.meteostat.net/bulk/hourly.html#structure) entnommen werden"
   ]
  },
  {
   "cell_type": "code",
   "execution_count": 5,
   "metadata": {},
   "outputs": [],
   "source": [
    "weather_data_cleaned = weather_data.copy()\n",
    "weather_data_cleaned.drop(columns=['dwpt', 'rhum', 'wdir', 'wpgt', 'pres', 'tsun', 'prcp'], inplace=True)"
   ]
  },
  {
   "cell_type": "markdown",
   "metadata": {},
   "source": [
    "#### 4. Binning der Daten\n",
    "\n",
    "Das Binning wird genutzt, um stetige Daten in eine diskrete Form zu bringen. Dazu werden Intervalle beschlossen, in welchen den stetigen Daten jeweils die gleiche Kategorie (Bin) zugeordnet wird.\n",
    "\n",
    "Folgende Bins werden erstellt:"
   ]
  },
  {
   "cell_type": "markdown",
   "metadata": {},
   "source": [
    "- Temperatur (`temp`) in $°\\text{C}$  wird aufgeteilt in:\n",
    "  - Frieren(0): $(-\\infty, 0]$\n",
    "  - Kühl(1): $(0, 10]$,\n",
    "  - Moderat(2): $(10, 20]$\n",
    "  - Warm(3): $(20, 28]$\n",
    "  - Heiß(4): $(28, +\\infty)$"
   ]
  },
  {
   "cell_type": "code",
   "execution_count": 6,
   "metadata": {},
   "outputs": [],
   "source": [
    "def map_temp(temp: float) -> int:\n",
    "    if temp <= 0:\n",
    "        return 0\n",
    "    elif temp <= 10:\n",
    "        return 1\n",
    "    elif temp <= 20:\n",
    "        return 2\n",
    "    elif temp <= 28:\n",
    "        return 3\n",
    "    elif temp > 28:\n",
    "        return 4\n",
    "    else:\n",
    "        raise ValueError(\"Received unexpected value: {}\".format(temp))"
   ]
  },
  {
   "cell_type": "markdown",
   "metadata": {},
   "source": [
    "- Schneehöhe (`snow`) in $\\text{cm}$\n",
    "    - Kein Schnee(0): $[0]$\n",
    "    - Leicht(1): $(0, 10]$\n",
    "    - Mäßig(2): $(10, 30]$\n",
    "    - Hoch(3): $(30, 50]$\n",
    "    - Sehr Hoch(4): $(50, +\\infty)$"
   ]
  },
  {
   "cell_type": "code",
   "execution_count": 7,
   "metadata": {},
   "outputs": [],
   "source": [
    "def map_snow(snow: float) -> int:\n",
    "    if snow == 0:\n",
    "        return 0\n",
    "    elif snow <= 10:\n",
    "        return 1\n",
    "    elif snow <= 30:\n",
    "        return 2\n",
    "    elif snow <= 50:\n",
    "        return 3\n",
    "    elif snow > 50:\n",
    "        return 4\n",
    "    else:\n",
    "        raise ValueError(\"Received unexpected value: {}\".format(snow))"
   ]
  },
  {
   "cell_type": "markdown",
   "metadata": {},
   "source": [
    "- Windgeschwindigkeit (`wspd`) in $\\text{km/h}$\n",
    "    - Windstill(0): $[0, 5]$\n",
    "    - Leichte Brise(1): $(5, 20]$\n",
    "    - Mäßiger Wind(2): $(20, 40]$\n",
    "    - Starker Wind(3): $(40, 60]$\n",
    "    - Sturm(4): $(60, +\\infty)$"
   ]
  },
  {
   "cell_type": "code",
   "execution_count": 8,
   "metadata": {},
   "outputs": [],
   "source": [
    "def map_wind(wspd: float) -> int:\n",
    "    if 0 <= wspd <= 5:\n",
    "        return 0\n",
    "    elif wspd <= 20:\n",
    "        return 1\n",
    "    elif wspd <= 40:\n",
    "        return 2\n",
    "    elif wspd <= 60:\n",
    "        return 3\n",
    "    elif wspd > 60:\n",
    "        return 4\n",
    "    else:\n",
    "        raise ValueError(\"Received unexpected value: {}\".format(wspd))"
   ]
  },
  {
   "cell_type": "markdown",
   "metadata": {},
   "source": [
    "- Wetterverhältnisse (`coco`):\n",
    "    - Liste der Codes kann unter https://dev.meteostat.net/formats.html#weather-condition-codes eingesehen werden.\n",
    "      Diese werden zur Einfachheit in die Kategorien Schlecht(0), Neutral(1), Gut(2) eingeteilt"
   ]
  },
  {
   "cell_type": "code",
   "execution_count": 9,
   "metadata": {},
   "outputs": [],
   "source": [
    "def map_coco(coco: float) -> int:\n",
    "    if coco in [3.0, 4.0, 5.0, 7.0, 14.0, 17.0, 21.0]:\n",
    "        return 1\n",
    "    elif coco in [1.0, 2.0]:\n",
    "        return 2\n",
    "    elif coco in [6.0, 8.0, 9.0, 10.0, 11.0, 12.0, 13.0, 15.0, 16.0, 18.0, 19.0, 20.0, 22.0, 23.0, 24.0, 25.0, 26.0, 27.0]:\n",
    "        return 0\n",
    "    else:\n",
    "        raise ValueError(\"Received unexpected value: {}\".format(coco))"
   ]
  },
  {
   "cell_type": "markdown",
   "metadata": {},
   "source": [
    "Die erstellten Funktionen werden nun auf die Wetterdaten mittels angewendet."
   ]
  },
  {
   "cell_type": "code",
   "execution_count": 10,
   "metadata": {},
   "outputs": [],
   "source": [
    "weather_data_cleaned['coco'] = weather_data_cleaned['coco'].map(map_coco)\n",
    "weather_data_cleaned['temp'] = weather_data_cleaned['temp'].map(map_temp)\n",
    "weather_data_cleaned['snow'] = weather_data_cleaned['snow'].map(map_snow)\n",
    "weather_data_cleaned['wspd'] = weather_data_cleaned['wspd'].map(map_wind)"
   ]
  },
  {
   "cell_type": "markdown",
   "metadata": {},
   "source": [
    "Zeit wird in die Spalten Stunde (`hour`), Wochentag (`weekday`) und Monat (`month`) aufgeteilt."
   ]
  },
  {
   "cell_type": "code",
   "execution_count": 11,
   "metadata": {},
   "outputs": [],
   "source": [
    "weather_data_cleaned.reset_index(inplace=True)\n",
    "weather_data_cleaned['weekday'] = weather_data_cleaned['time'].map(lambda t: t.weekday())\n",
    "weather_data_cleaned['month'] = weather_data_cleaned['time'].map(lambda t: t.month)\n",
    "weather_data_cleaned['hour'] = weather_data_cleaned['time'].map(lambda t: t.hour)\n",
    "weather_data_cleaned.drop(columns=['time'], inplace=True)\n",
    "weather_data_cleaned.index.name = 'index'"
   ]
  },
  {
   "cell_type": "markdown",
   "metadata": {},
   "source": [
    "#### 5. Gesammelte Daten werden zusammengefasst\n",
    "\n",
    "Die Ferien- und Feiertagsdaten werden der Tabelle zugeführt"
   ]
  },
  {
   "cell_type": "code",
   "execution_count": 12,
   "metadata": {},
   "outputs": [],
   "source": [
    "weather_data_cleaned['vacation'] = is_vacation.astype(int)\n",
    "weather_data_cleaned['holiday'] = is_holiday.astype(int)"
   ]
  },
  {
   "cell_type": "markdown",
   "metadata": {},
   "source": [
    "#### 6. Datenexport\n",
    "\n",
    "Die Daten werden für die weitere Verwendung in die Datei `./data/agg_mapped_data.csv` exportiert."
   ]
  },
  {
   "cell_type": "code",
   "execution_count": 13,
   "metadata": {},
   "outputs": [],
   "source": [
    "weather_data_cleaned.to_csv('./data/agg_mapped_data.csv')"
   ]
  },
  {
   "cell_type": "code",
   "execution_count": null,
   "metadata": {},
   "outputs": [],
   "source": []
  }
 ],
 "metadata": {
  "kernelspec": {
   "display_name": ".venv",
   "language": "python",
   "name": "python3"
  },
  "language_info": {
   "codemirror_mode": {
    "name": "ipython",
    "version": 3
   },
   "file_extension": ".py",
   "mimetype": "text/x-python",
   "name": "python",
   "nbconvert_exporter": "python",
   "pygments_lexer": "ipython3",
   "version": "3.11.3"
  }
 },
 "nbformat": 4,
 "nbformat_minor": 2
}
